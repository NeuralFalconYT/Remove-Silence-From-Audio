{
  "nbformat": 4,
  "nbformat_minor": 0,
  "metadata": {
    "colab": {
      "provenance": []
    },
    "kernelspec": {
      "name": "python3",
      "display_name": "Python 3"
    },
    "language_info": {
      "name": "python"
    }
  },
  "cells": [
    {
      "cell_type": "code",
      "execution_count": null,
      "metadata": {
        "cellView": "form",
        "id": "OMPtA5DGWc6a"
      },
      "outputs": [],
      "source": [
        "#@title Run Gradio App\n",
        "%cd /content/\n",
        "!git clone https://github.com/NeuralFalconYT/Remove-Silence-From-Audio.git\n",
        "%cd Remove-Silence-From-Audio\n",
        "!pip install -r requirements.txt\n",
        "from IPython.display import clear_output\n",
        "clear_output()\n",
        "!python app.py --share --debug"
      ]
    }
  ]
}